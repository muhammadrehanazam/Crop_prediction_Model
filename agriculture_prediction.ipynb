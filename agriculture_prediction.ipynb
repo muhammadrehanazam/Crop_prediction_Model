{
 "cells": [
  {
   "cell_type": "markdown",
   "id": "5e91238f-b6dc-413a-ad96-8b91dba8224c",
   "metadata": {},
   "source": [
    "## import libraries to import and read data\n"
   ]
  },
  {
   "cell_type": "code",
   "execution_count": 78,
   "id": "6a7e38d6-e268-4cad-b8bb-25a59ea9ec1f",
   "metadata": {},
   "outputs": [],
   "source": [
    "import pandas as pd\n",
    "import numpy as np"
   ]
  },
  {
   "cell_type": "code",
   "execution_count": 79,
   "id": "ff55d796-eadf-478d-8c71-a12dfcb3f3d2",
   "metadata": {},
   "outputs": [
    {
     "data": {
      "text/html": [
       "<div>\n",
       "<style scoped>\n",
       "    .dataframe tbody tr th:only-of-type {\n",
       "        vertical-align: middle;\n",
       "    }\n",
       "\n",
       "    .dataframe tbody tr th {\n",
       "        vertical-align: top;\n",
       "    }\n",
       "\n",
       "    .dataframe thead th {\n",
       "        text-align: right;\n",
       "    }\n",
       "</style>\n",
       "<table border=\"1\" class=\"dataframe\">\n",
       "  <thead>\n",
       "    <tr style=\"text-align: right;\">\n",
       "      <th></th>\n",
       "      <th>N</th>\n",
       "      <th>P</th>\n",
       "      <th>K</th>\n",
       "      <th>ph</th>\n",
       "      <th>crop</th>\n",
       "    </tr>\n",
       "  </thead>\n",
       "  <tbody>\n",
       "    <tr>\n",
       "      <th>0</th>\n",
       "      <td>90</td>\n",
       "      <td>42</td>\n",
       "      <td>43</td>\n",
       "      <td>6.502985</td>\n",
       "      <td>rice</td>\n",
       "    </tr>\n",
       "    <tr>\n",
       "      <th>1</th>\n",
       "      <td>85</td>\n",
       "      <td>58</td>\n",
       "      <td>41</td>\n",
       "      <td>7.038096</td>\n",
       "      <td>rice</td>\n",
       "    </tr>\n",
       "    <tr>\n",
       "      <th>2</th>\n",
       "      <td>60</td>\n",
       "      <td>55</td>\n",
       "      <td>44</td>\n",
       "      <td>7.840207</td>\n",
       "      <td>rice</td>\n",
       "    </tr>\n",
       "    <tr>\n",
       "      <th>3</th>\n",
       "      <td>74</td>\n",
       "      <td>35</td>\n",
       "      <td>40</td>\n",
       "      <td>6.980401</td>\n",
       "      <td>rice</td>\n",
       "    </tr>\n",
       "    <tr>\n",
       "      <th>4</th>\n",
       "      <td>78</td>\n",
       "      <td>42</td>\n",
       "      <td>42</td>\n",
       "      <td>7.628473</td>\n",
       "      <td>rice</td>\n",
       "    </tr>\n",
       "  </tbody>\n",
       "</table>\n",
       "</div>"
      ],
      "text/plain": [
       "    N   P   K        ph  crop\n",
       "0  90  42  43  6.502985  rice\n",
       "1  85  58  41  7.038096  rice\n",
       "2  60  55  44  7.840207  rice\n",
       "3  74  35  40  6.980401  rice\n",
       "4  78  42  42  7.628473  rice"
      ]
     },
     "execution_count": 79,
     "metadata": {},
     "output_type": "execute_result"
    }
   ],
   "source": [
    "df = pd.read_csv(r'C:\\Users\\DIWANs\\Desktop\\soil_measures.csv')\n",
    "df.head()"
   ]
  },
  {
   "cell_type": "markdown",
   "id": "91dc8a5e-8544-489d-b655-5370d5e36fc6",
   "metadata": {},
   "source": [
    "## Basic details before further proceding\n"
   ]
  },
  {
   "cell_type": "code",
   "execution_count": 80,
   "id": "3a0598d5-8084-48ac-826c-9f195020261a",
   "metadata": {
    "scrolled": true
   },
   "outputs": [
    {
     "name": "stdout",
     "output_type": "stream",
     "text": [
      "<class 'pandas.core.frame.DataFrame'>\n",
      "RangeIndex: 2200 entries, 0 to 2199\n",
      "Data columns (total 5 columns):\n",
      " #   Column  Non-Null Count  Dtype  \n",
      "---  ------  --------------  -----  \n",
      " 0   N       2200 non-null   int64  \n",
      " 1   P       2200 non-null   int64  \n",
      " 2   K       2200 non-null   int64  \n",
      " 3   ph      2200 non-null   float64\n",
      " 4   crop    2200 non-null   object \n",
      "dtypes: float64(1), int64(3), object(1)\n",
      "memory usage: 86.1+ KB\n"
     ]
    },
    {
     "data": {
      "text/plain": [
       "N       0\n",
       "P       0\n",
       "K       0\n",
       "ph      0\n",
       "crop    0\n",
       "dtype: int64"
      ]
     },
     "execution_count": 80,
     "metadata": {},
     "output_type": "execute_result"
    }
   ],
   "source": [
    "df.info()\n",
    "df.describe()\n",
    "df.isna().sum()"
   ]
  },
  {
   "cell_type": "markdown",
   "id": "cc70e6ce-0bb8-460c-ad93-02e63d5040ad",
   "metadata": {},
   "source": [
    "# Question: Which feature is best for crops, select the best one that have best result for all"
   ]
  },
  {
   "cell_type": "markdown",
   "id": "b4006a6c-1205-4b8b-af6b-bd1855257196",
   "metadata": {},
   "source": [
    "## import libraries for models"
   ]
  },
  {
   "cell_type": "code",
   "execution_count": 86,
   "id": "16d06685-9199-49b3-86d0-c95aa3dacb14",
   "metadata": {},
   "outputs": [],
   "source": [
    "from sklearn.model_selection import train_test_split # for split and train\n",
    "from sklearn.linear_model import LogisticRegression # model for classification\n",
    "from sklearn.metrics import f1_score\n",
    "\n",
    "# come back from iterate section\n",
    "X = df.drop('crop',axis=1)\n",
    "y = df['crop']\n",
    "X_train,X_test,y_train,y_test=train_test_split(X,y,test_size=0.2,random_state=42)\n"
   ]
  },
  {
   "cell_type": "markdown",
   "id": "9bb54222-1b99-4f0c-86d7-b70326207d00",
   "metadata": {},
   "source": [
    "## Since we have to find the best feature , we check each feature one by one "
   ]
  },
  {
   "cell_type": "markdown",
   "id": "7c6d95d2-516e-4dfb-9cb4-b4a50f09fd9d",
   "metadata": {},
   "source": [
    "## Now iterate through each feature"
   ]
  },
  {
   "cell_type": "code",
   "execution_count": 104,
   "id": "fd5ea276-3d65-4ef3-81ce-225b3740d2f6",
   "metadata": {},
   "outputs": [
    {
     "name": "stderr",
     "output_type": "stream",
     "text": [
      "D:\\Anaconda\\Lib\\site-packages\\sklearn\\linear_model\\_logistic.py:465: ConvergenceWarning: lbfgs failed to converge (status=1):\n",
      "STOP: TOTAL NO. OF ITERATIONS REACHED LIMIT.\n",
      "\n",
      "Increase the number of iterations (max_iter) or scale the data as shown in:\n",
      "    https://scikit-learn.org/stable/modules/preprocessing.html\n",
      "Please also refer to the documentation for alternative solver options:\n",
      "    https://scikit-learn.org/stable/modules/linear_model.html#logistic-regression\n",
      "  n_iter_i = _check_optimize_result(\n"
     ]
    },
    {
     "name": "stdout",
     "output_type": "stream",
     "text": [
      "F1 Score for N: 0.09149868209906838\n"
     ]
    },
    {
     "name": "stderr",
     "output_type": "stream",
     "text": [
      "D:\\Anaconda\\Lib\\site-packages\\sklearn\\linear_model\\_logistic.py:465: ConvergenceWarning: lbfgs failed to converge (status=1):\n",
      "STOP: TOTAL NO. OF ITERATIONS REACHED LIMIT.\n",
      "\n",
      "Increase the number of iterations (max_iter) or scale the data as shown in:\n",
      "    https://scikit-learn.org/stable/modules/preprocessing.html\n",
      "Please also refer to the documentation for alternative solver options:\n",
      "    https://scikit-learn.org/stable/modules/linear_model.html#logistic-regression\n",
      "  n_iter_i = _check_optimize_result(\n"
     ]
    },
    {
     "name": "stdout",
     "output_type": "stream",
     "text": [
      "F1 Score for P: 0.1476194290972821\n",
      "F1 Score for K: 0.23896974566001802\n",
      "F1 Score for ph: 0.0458225366614312\n",
      "\n",
      "Best predictive feature is 'K' with 0.239 F1 Score.\n"
     ]
    },
    {
     "name": "stderr",
     "output_type": "stream",
     "text": [
      "D:\\Anaconda\\Lib\\site-packages\\sklearn\\linear_model\\_logistic.py:465: ConvergenceWarning: lbfgs failed to converge (status=1):\n",
      "STOP: TOTAL NO. OF ITERATIONS REACHED LIMIT.\n",
      "\n",
      "Increase the number of iterations (max_iter) or scale the data as shown in:\n",
      "    https://scikit-learn.org/stable/modules/preprocessing.html\n",
      "Please also refer to the documentation for alternative solver options:\n",
      "    https://scikit-learn.org/stable/modules/linear_model.html#logistic-regression\n",
      "  n_iter_i = _check_optimize_result(\n"
     ]
    }
   ],
   "source": [
    "features  = X.columns\n",
    "features_dict = {}\n",
    "\n",
    "for feature in features:\n",
    "    log_reg = LogisticRegression()\n",
    "    # Corrected indexing for pandas DataFrame\n",
    "    log_reg.fit(X_train[[feature]], y_train)\n",
    "    y_pred = log_reg.predict(X_test[[feature]])\n",
    "    # Updated to include the 'average' parameter with a value suitable for multiclass classification\n",
    "    f1 = f1_score(y_test, y_pred, average='weighted')\n",
    "    features_dict[feature] = f1\n",
    "    print(f'F1 Score for {feature}: {f1}')\n",
    "    \n",
    "best_feature = max(features_dict, key=features_dict.get)\n",
    "print(f\"\\nBest predictive feature is '{best_feature}' with {features_dict[best_feature]:.3f} F1 Score.\")\n",
    "    \n"
   ]
  },
  {
   "cell_type": "markdown",
   "id": "972467d3-16c7-4e40-b78d-9715af45e4f6",
   "metadata": {},
   "source": [
    "## Now we check how it is working behind the scene"
   ]
  },
  {
   "cell_type": "code",
   "execution_count": null,
   "id": "81c111a2-153f-43dc-97d4-181e03c501ca",
   "metadata": {},
   "outputs": [],
   "source": []
  }
 ],
 "metadata": {
  "kernelspec": {
   "display_name": "Python 3 (ipykernel)",
   "language": "python",
   "name": "python3"
  },
  "language_info": {
   "codemirror_mode": {
    "name": "ipython",
    "version": 3
   },
   "file_extension": ".py",
   "mimetype": "text/x-python",
   "name": "python",
   "nbconvert_exporter": "python",
   "pygments_lexer": "ipython3",
   "version": "3.13.5"
  }
 },
 "nbformat": 4,
 "nbformat_minor": 5
}
